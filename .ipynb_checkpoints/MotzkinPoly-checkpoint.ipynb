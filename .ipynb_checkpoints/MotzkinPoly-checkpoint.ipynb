{
 "cells": [
  {
   "cell_type": "code",
   "execution_count": 1,
   "id": "ce5514e2",
   "metadata": {},
   "outputs": [],
   "source": [
    "using SumOfSquares\n",
    "using DynamicPolynomials\n",
    "using MosekTools"
   ]
  },
  {
   "cell_type": "code",
   "execution_count": 2,
   "id": "9121ce97",
   "metadata": {},
   "outputs": [
    {
     "name": "stdout",
     "output_type": "stream",
     "text": [
      "No solution.\n"
     ]
    }
   ],
   "source": [
    "@polyvar x1 x2\n",
    "solver = optimizer_with_attributes(Mosek.Optimizer, MOI.Silent() => true)\n",
    "model = SOSModel(solver);\n",
    "\n",
    "#@variable(model, γ);\n",
    "\n",
    "@constraint(model, x1^2*x2^4 + x1^4*x2^2 - 3*x1^2*x2^2 + 1 >= 0);\n",
    "# , domain = @set x1^3+x2+1>=0 && x2^3-x1+1>=0\n",
    "#@objective(model, Max, γ);\n",
    "\n",
    "optimize!(model);\n",
    "if (JuMP.has_values(model))\n",
    "    println(value(γ));\n",
    "else\n",
    "    println(\"No solution.\")\n",
    "end"
   ]
  },
  {
   "cell_type": "code",
   "execution_count": 3,
   "id": "629c39a6",
   "metadata": {},
   "outputs": [
    {
     "ename": "LoadError",
     "evalue": "UndefVarError: `γ` not defined",
     "output_type": "error",
     "traceback": [
      "UndefVarError: `γ` not defined",
      "",
      "Stacktrace:",
      " [1] top-level scope",
      "   @ In[3]:10"
     ]
    }
   ],
   "source": [
    "@polyvar x0 x1 x2\n",
    "θ = x0^2 + x1^2 + x2^2 - 1;\n",
    "\n",
    "model = SOSModel(solver);\n",
    "\n",
    "@constraint(model, x1^2*x2^4 + x1^4*x2^2 - 3*x1^2*x2^2 + 1 >= 0, domain = @set θ==0&&x0>=0);\n",
    "\n",
    "optimize!(model);\n",
    "if (JuMP.has_values(model))\n",
    "    println(\"Feasible!\");\n",
    "else\n",
    "    println(\"No solution.\")\n",
    "end\n"
   ]
  },
  {
   "cell_type": "code",
   "execution_count": 46,
   "id": "3c9c38dd",
   "metadata": {},
   "outputs": [
    {
     "name": "stdout",
     "output_type": "stream",
     "text": [
      "-1.720813525341036e-5\n"
     ]
    }
   ],
   "source": [
    "@polyvar x0 x1 x2\n",
    "θ = x0^2 + x1^2 + x2^2 - 1;\n",
    "\n",
    "model = SOSModel(solver);\n",
    "monos = monomials([x0,x1,x2], 0:6);\n",
    "\n",
    "@variable(model, s0, Poly(monos));\n",
    "@variable(model, s1, Poly(monos));\n",
    "@variable(model, s2, Poly(monos));\n",
    "@variable(model, γ);\n",
    "\n",
    "@constraint(model, x1^4*x2^2+x1^2*x2^4 + x0^6 - 3*x1^2*x2^2*x0^2-γ== s0 + s1*x0 + θ*s2);\n",
    "@constraint(model, s1>=0);\n",
    "@constraint(model, s0>=0);\n",
    "\n",
    "    \n",
    "#    >= 0, domain = @set θ==0&&x0>=0);\n",
    "\n",
    "@objective(model, Max, γ);\n",
    "\n",
    "optimize!(model);\n",
    "if (JuMP.has_values(model))\n",
    "    println(value(γ));\n",
    "else\n",
    "    println(\"No solution.\")\n",
    "end"
   ]
  },
  {
   "cell_type": "code",
   "execution_count": 43,
   "id": "90fa363a",
   "metadata": {},
   "outputs": [
    {
     "data": {
      "text/plain": [
       "false"
      ]
     },
     "execution_count": 43,
     "metadata": {},
     "output_type": "execute_result"
    }
   ],
   "source": [
    "@polyvar x0 x1 x2\n",
    "θ = x0^2 + x1^2 + x2^2 - 1;\n",
    "\n",
    "model = SOSModel(solver);\n",
    "monos = monomials([x1,x2], 0:4);\n",
    "\n",
    "@variable(model, s0, Poly(monos));\n",
    "@variable(model, s1, Poly(monos));\n",
    "@variable(model, s2, Poly(monos));\n",
    "\n",
    "@constraint(model, x1^2*x2+x1*x2^2 + 1 - 3*x1*x2 == s0 + x1*s1 + x2*s2);\n",
    "@constraint(model, s2>=0);\n",
    "@constraint(model, s1>=0);\n",
    "@constraint(model, s0>=0);\n",
    "\n",
    "optimize!(model);\n",
    "JuMP.has_values(model)"
   ]
  },
  {
   "cell_type": "code",
   "execution_count": 42,
   "id": "a2937178",
   "metadata": {},
   "outputs": [
    {
     "data": {
      "text/plain": [
       "-0.9999999631163813"
      ]
     },
     "execution_count": 42,
     "metadata": {},
     "output_type": "execute_result"
    }
   ],
   "source": [
    "@polyvar x0 x1 x2\n",
    "θ = x0^2 + x1^2 + x2^2 - 1;\n",
    "\n",
    "model = SOSModel(solver);\n",
    "monos = monomials([x0,x1,x2], 0:6);\n",
    "\n",
    "@variable(model, s0, Poly(monos));\n",
    "@variable(model, s1, Poly(monos));\n",
    "@variable(model, s2, Poly(monos));\n",
    "@variable(model, s3, Poly(monos));\n",
    "@variable(model, γ);\n",
    "\n",
    "@constraint(model, x1^2*x2+x1*x2^2 + x0^3 - 3*x1*x2*x0 - γ == s0 + x1*s1 + x2*s2 + θ*s3);\n",
    "@constraint(model, s2>=0);\n",
    "@constraint(model, s1>=0);\n",
    "@constraint(model, s0>=0);\n",
    "\n",
    "\n",
    "@objective(model, Max, γ);\n",
    "\n",
    "optimize!(model);\n",
    "JuMP.has_values(model)\n",
    "value(γ)"
   ]
  },
  {
   "cell_type": "code",
   "execution_count": 36,
   "id": "6a01c572",
   "metadata": {},
   "outputs": [
    {
     "data": {
      "text/latex": [
       "$$ 0.31918018904351414 - 0.43772881857695217x2 - 0.2230338918949354x1 - 1.569394059292929 \\cdot 10^{-19}x0 + 0.3235327460399268x2^{2} - 0.008858389250024112x1x2 + 0.17362318881081512x1^{2} + 7.071420711112141 \\cdot 10^{-18}x0x2 + 1.9327844446253764 \\cdot 10^{-17}x0x1 + 0.12290656616449165x0^{2} - 0.16157896786383497x2^{3} - 0.17796287456946228x1x2^{2} - 0.17706510695133387x1^{2}x2 - 0.13190265666745993x1^{3} - 3.662330323387705 \\cdot 10^{-19}x0x2^{2} + 7.957406645667656 \\cdot 10^{-18}x0x1x2 + 6.840152241518994 \\cdot 10^{-18}x0x1^{2} - 0.14530598568187816x0^{2}x2 - 0.07220376475792917x0^{2}x1 - 5.033589001065794 \\cdot 10^{-18}x0^{3} + 0.29950256246071927x2^{4} - 0.004621465004189695x1x2^{3} + 0.5131433126663943x1^{2}x2^{2} - 0.17077174742760515x1^{3}x2 + 0.2837592932544382x1^{4} - 5.699968042861549 \\cdot 10^{-18}x0x2^{3} + 1.6237777971824924 \\cdot 10^{-17}x0x1x2^{2} - 4.81663282088817 \\cdot 10^{-18}x0x1^{2}x2 - 4.43390630563313 \\cdot 10^{-18}x0x1^{3} + 0.49891255664310086x0^{2}x2^{2} + 0.01077797251725865x0^{2}x1x2 + 0.5535121946998829x0^{2}x1^{2} + 1.7048700091484613 \\cdot 10^{-17}x0^{3}x2 - 4.43390630563313 \\cdot 10^{-18}x0^{3}x1 + 0.26975290144544467x0^{4} $$"
      ],
      "text/plain": [
       "0.31918018904351414 - 0.43772881857695217x2 - 0.2230338918949354x1 - 1.569394059292929e-19x0 + 0.3235327460399268x2² - 0.008858389250024112x1x2 + 0.17362318881081512x1² + 7.071420711112141e-18x0x2 + 1.9327844446253764e-17x0x1 + 0.12290656616449165x0² - 0.16157896786383497x2³ - 0.17796287456946228x1x2² - 0.17706510695133387x1²x2 - 0.13190265666745993x1³ - 3.662330323387705e-19x0x2² + 7.957406645667656e-18x0x1x2 + 6.840152241518994e-18x0x1² - 0.14530598568187816x0²x2 - 0.07220376475792917x0²x1 - 5.033589001065794e-18x0³ + 0.29950256246071927x2⁴ - 0.004621465004189695x1x2³ + 0.5131433126663943x1²x2² - 0.17077174742760515x1³x2 + 0.2837592932544382x1⁴ - 5.699968042861549e-18x0x2³ + 1.6237777971824924e-17x0x1x2² - 4.81663282088817e-18x0x1²x2 - 4.43390630563313e-18x0x1³ + 0.49891255664310086x0²x2² + 0.01077797251725865x0²x1x2 + 0.5535121946998829x0²x1² + 1.7048700091484613e-17x0³x2 - 4.43390630563313e-18x0³x1 + 0.26975290144544467x0⁴"
      ]
     },
     "execution_count": 36,
     "metadata": {},
     "output_type": "execute_result"
    }
   ],
   "source": [
    "value(s1)"
   ]
  },
  {
   "cell_type": "code",
   "execution_count": 50,
   "id": "cf958b18",
   "metadata": {},
   "outputs": [
    {
     "ename": "LoadError",
     "evalue": "MethodError: no method matching sos_decomposition(::Polynomial{DynamicPolynomials.Commutative{DynamicPolynomials.CreationOrder}, Graded{LexOrder}, Int64}, ::Float64)\n\n\u001b[0mClosest candidates are:\n\u001b[0m  sos_decomposition(\u001b[91m::ConstraintRef\u001b[39m, ::Real)\n\u001b[0m\u001b[90m   @\u001b[39m \u001b[35mSumOfSquares\u001b[39m \u001b[90m~/.julia/packages/SumOfSquares/Sin7c/src/\u001b[39m\u001b[90m\u001b[4mconstraint.jl:405\u001b[24m\u001b[39m\n\u001b[0m  sos_decomposition(\u001b[91m::ConstraintRef\u001b[39m, ::Real, \u001b[91m::LowRankLDLTAlgorithm\u001b[39m)\n\u001b[0m\u001b[90m   @\u001b[39m \u001b[35mSumOfSquares\u001b[39m \u001b[90m~/.julia/packages/SumOfSquares/Sin7c/src/\u001b[39m\u001b[90m\u001b[4mconstraint.jl:405\u001b[24m\u001b[39m\n",
     "output_type": "error",
     "traceback": [
      "MethodError: no method matching sos_decomposition(::Polynomial{DynamicPolynomials.Commutative{DynamicPolynomials.CreationOrder}, Graded{LexOrder}, Int64}, ::Float64)\n\n\u001b[0mClosest candidates are:\n\u001b[0m  sos_decomposition(\u001b[91m::ConstraintRef\u001b[39m, ::Real)\n\u001b[0m\u001b[90m   @\u001b[39m \u001b[35mSumOfSquares\u001b[39m \u001b[90m~/.julia/packages/SumOfSquares/Sin7c/src/\u001b[39m\u001b[90m\u001b[4mconstraint.jl:405\u001b[24m\u001b[39m\n\u001b[0m  sos_decomposition(\u001b[91m::ConstraintRef\u001b[39m, ::Real, \u001b[91m::LowRankLDLTAlgorithm\u001b[39m)\n\u001b[0m\u001b[90m   @\u001b[39m \u001b[35mSumOfSquares\u001b[39m \u001b[90m~/.julia/packages/SumOfSquares/Sin7c/src/\u001b[39m\u001b[90m\u001b[4mconstraint.jl:405\u001b[24m\u001b[39m\n",
      "",
      "Stacktrace:",
      " [1] top-level scope",
      "   @ In[50]:1"
     ]
    }
   ],
   "source": [
    "sos_decomposition(x1^2+x2^2, 1e-4)"
   ]
  },
  {
   "cell_type": "code",
   "execution_count": 53,
   "id": "1b9942ec",
   "metadata": {},
   "outputs": [
    {
     "data": {
      "text/plain": [
       "(1.0)^2 + (y)^2 + (x)^2"
      ]
     },
     "execution_count": 53,
     "metadata": {},
     "output_type": "execute_result"
    }
   ],
   "source": [
    "@polyvar x y\n",
    "p = x^2 + y^2 + 1\n",
    "\n",
    "model = SOSModel(solver)\n",
    "@constraint(model, cref, p >= 0)\n",
    "optimize!(model)\n",
    "sos_dec = sos_decomposition(cref, 1e-4)"
   ]
  },
  {
   "cell_type": "code",
   "execution_count": null,
   "id": "9fe3d347",
   "metadata": {},
   "outputs": [],
   "source": []
  }
 ],
 "metadata": {
  "kernelspec": {
   "display_name": "Julia 1.9.2",
   "language": "julia",
   "name": "julia-1.9"
  },
  "language_info": {
   "file_extension": ".jl",
   "mimetype": "application/julia",
   "name": "julia",
   "version": "1.9.2"
  }
 },
 "nbformat": 4,
 "nbformat_minor": 5
}
